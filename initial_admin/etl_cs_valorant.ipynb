{
 "cells": [
  {
   "cell_type": "markdown",
   "id": "c8496c56",
   "metadata": {},
   "source": [
    "## **Libraries**"
   ]
  },
  {
   "cell_type": "code",
   "execution_count": 4,
   "id": "f570b9dc",
   "metadata": {},
   "outputs": [],
   "source": [
    "import pandas as pd\n",
    "import numpy as np"
   ]
  },
  {
   "cell_type": "markdown",
   "id": "e371ddb6",
   "metadata": {},
   "source": [
    "## **Extract**"
   ]
  },
  {
   "cell_type": "code",
   "execution_count": 5,
   "id": "0b99c585",
   "metadata": {},
   "outputs": [],
   "source": [
    "cs_data = pd.read_csv('datasets/raw/csgo_player_stats.csv')"
   ]
  },
  {
   "cell_type": "code",
   "execution_count": 6,
   "id": "8860afc3",
   "metadata": {},
   "outputs": [],
   "source": [
    "valorant_data = pd.read_csv('datasets/raw/valorant_player_stats.csv')"
   ]
  },
  {
   "cell_type": "markdown",
   "id": "8d9d0b60",
   "metadata": {},
   "source": [
    "## **Transform**"
   ]
  },
  {
   "cell_type": "code",
   "execution_count": 7,
   "id": "fb5d551e",
   "metadata": {},
   "outputs": [
    {
     "data": {
      "application/vnd.microsoft.datawrangler.viewer.v0+json": {
       "columns": [
        {
         "name": "index",
         "rawType": "object",
         "type": "string"
        },
        {
         "name": "0",
         "rawType": "int64",
         "type": "integer"
        }
       ],
       "ref": "48391367-f538-4f6a-b91c-a89c7ca17279",
       "rows": [
        [
         "Unnamed: 0",
         "0"
        ],
        [
         "name",
         "0"
        ],
        [
         "country",
         "0"
        ],
        [
         "teams",
         "0"
        ],
        [
         "total_maps",
         "0"
        ],
        [
         "total_rounds",
         "0"
        ],
        [
         "kd_diff",
         "0"
        ],
        [
         "kd",
         "0"
        ],
        [
         "rating",
         "0"
        ]
       ],
       "shape": {
        "columns": 1,
        "rows": 9
       }
      },
      "text/plain": [
       "Unnamed: 0      0\n",
       "name            0\n",
       "country         0\n",
       "teams           0\n",
       "total_maps      0\n",
       "total_rounds    0\n",
       "kd_diff         0\n",
       "kd              0\n",
       "rating          0\n",
       "dtype: int64"
      ]
     },
     "execution_count": 7,
     "metadata": {},
     "output_type": "execute_result"
    }
   ],
   "source": [
    "cs_data.isnull().sum()"
   ]
  },
  {
   "cell_type": "code",
   "execution_count": 8,
   "id": "1bea0209",
   "metadata": {},
   "outputs": [
    {
     "data": {
      "application/vnd.microsoft.datawrangler.viewer.v0+json": {
       "columns": [
        {
         "name": "index",
         "rawType": "object",
         "type": "string"
        },
        {
         "name": "0",
         "rawType": "int64",
         "type": "integer"
        }
       ],
       "ref": "1f35922e-8c63-4459-9ffa-8a558c622ea9",
       "rows": [
        [
         "player",
         "0"
        ],
        [
         "country",
         "0"
        ],
        [
         "team",
         "188"
        ],
        [
         "rounds",
         "0"
        ],
        [
         "rating",
         "0"
        ],
        [
         "ACS",
         "0"
        ],
        [
         "K/D",
         "0"
        ],
        [
         "ADR",
         "0"
        ],
        [
         "KPR",
         "0"
        ],
        [
         "DPR",
         "0"
        ],
        [
         "APR",
         "0"
        ],
        [
         "FBPR",
         "0"
        ],
        [
         "FDPR",
         "0"
        ],
        [
         "HS%",
         "0"
        ],
        [
         "FBSR%",
         "0"
        ]
       ],
       "shape": {
        "columns": 1,
        "rows": 15
       }
      },
      "text/plain": [
       "player       0\n",
       "country      0\n",
       "team       188\n",
       "rounds       0\n",
       "rating       0\n",
       "ACS          0\n",
       "K/D          0\n",
       "ADR          0\n",
       "KPR          0\n",
       "DPR          0\n",
       "APR          0\n",
       "FBPR         0\n",
       "FDPR         0\n",
       "HS%          0\n",
       "FBSR%        0\n",
       "dtype: int64"
      ]
     },
     "execution_count": 8,
     "metadata": {},
     "output_type": "execute_result"
    }
   ],
   "source": [
    "valorant_data.isnull().sum()"
   ]
  },
  {
   "cell_type": "code",
   "execution_count": 9,
   "id": "9d3d1430",
   "metadata": {},
   "outputs": [
    {
     "name": "stderr",
     "output_type": "stream",
     "text": [
      "C:\\Users\\yaksha\\AppData\\Local\\Temp\\ipykernel_25540\\849490230.py:1: FutureWarning: A value is trying to be set on a copy of a DataFrame or Series through chained assignment using an inplace method.\n",
      "The behavior will change in pandas 3.0. This inplace method will never work because the intermediate object on which we are setting values always behaves as a copy.\n",
      "\n",
      "For example, when doing 'df[col].method(value, inplace=True)', try using 'df.method({col: value}, inplace=True)' or df[col] = df[col].method(value) instead, to perform the operation inplace on the original object.\n",
      "\n",
      "\n",
      "  valorant_data.team.fillna('Solo', inplace=True)\n"
     ]
    }
   ],
   "source": [
    "valorant_data.team.fillna('Solo', inplace=True)"
   ]
  },
  {
   "cell_type": "code",
   "execution_count": 10,
   "id": "68429120",
   "metadata": {},
   "outputs": [
    {
     "data": {
      "application/vnd.microsoft.datawrangler.viewer.v0+json": {
       "columns": [
        {
         "name": "index",
         "rawType": "object",
         "type": "string"
        },
        {
         "name": "0",
         "rawType": "int64",
         "type": "integer"
        }
       ],
       "ref": "31ff5cf1-bc24-4364-8153-1f1725cc4c32",
       "rows": [
        [
         "player",
         "0"
        ],
        [
         "country",
         "0"
        ],
        [
         "team",
         "0"
        ],
        [
         "rounds",
         "0"
        ],
        [
         "rating",
         "0"
        ],
        [
         "ACS",
         "0"
        ],
        [
         "K/D",
         "0"
        ],
        [
         "ADR",
         "0"
        ],
        [
         "KPR",
         "0"
        ],
        [
         "DPR",
         "0"
        ],
        [
         "APR",
         "0"
        ],
        [
         "FBPR",
         "0"
        ],
        [
         "FDPR",
         "0"
        ],
        [
         "HS%",
         "0"
        ],
        [
         "FBSR%",
         "0"
        ]
       ],
       "shape": {
        "columns": 1,
        "rows": 15
       }
      },
      "text/plain": [
       "player     0\n",
       "country    0\n",
       "team       0\n",
       "rounds     0\n",
       "rating     0\n",
       "ACS        0\n",
       "K/D        0\n",
       "ADR        0\n",
       "KPR        0\n",
       "DPR        0\n",
       "APR        0\n",
       "FBPR       0\n",
       "FDPR       0\n",
       "HS%        0\n",
       "FBSR%      0\n",
       "dtype: int64"
      ]
     },
     "execution_count": 10,
     "metadata": {},
     "output_type": "execute_result"
    }
   ],
   "source": [
    "valorant_data.isnull().sum()"
   ]
  },
  {
   "cell_type": "code",
   "execution_count": 11,
   "id": "c1052499",
   "metadata": {},
   "outputs": [
    {
     "data": {
      "text/plain": [
       "Index(['Unnamed: 0', 'name', 'country', 'teams', 'total_maps', 'total_rounds',\n",
       "       'kd_diff', 'kd', 'rating'],\n",
       "      dtype='object')"
      ]
     },
     "execution_count": 11,
     "metadata": {},
     "output_type": "execute_result"
    }
   ],
   "source": [
    "cs_data.columns"
   ]
  },
  {
   "cell_type": "code",
   "execution_count": 12,
   "id": "cf0a1911",
   "metadata": {},
   "outputs": [
    {
     "data": {
      "text/plain": [
       "Index(['player', 'country', 'team', 'rounds', 'rating', 'ACS', 'K/D', 'ADR',\n",
       "       'KPR', 'DPR', 'APR', 'FBPR', 'FDPR', 'HS%', 'FBSR%'],\n",
       "      dtype='object')"
      ]
     },
     "execution_count": 12,
     "metadata": {},
     "output_type": "execute_result"
    }
   ],
   "source": [
    "valorant_data.columns"
   ]
  },
  {
   "cell_type": "code",
   "execution_count": 13,
   "id": "778a642f",
   "metadata": {},
   "outputs": [],
   "source": [
    "cs_data.drop(columns=['Unnamed: 0','total_maps', 'kd_diff'], axis=1, inplace=True)"
   ]
  },
  {
   "cell_type": "code",
   "execution_count": 14,
   "id": "a6f842b9",
   "metadata": {},
   "outputs": [
    {
     "data": {
      "text/plain": [
       "Index(['player_name', 'country', 'team', 'total_rounds', 'kd', 'rating',\n",
       "       'game'],\n",
       "      dtype='object')"
      ]
     },
     "execution_count": 14,
     "metadata": {},
     "output_type": "execute_result"
    }
   ],
   "source": [
    "cs_data.rename(columns={'name': 'player_name', 'teams': 'team'}, inplace=True)\n",
    "cs_data['game'] = 'CSGO'\n",
    "cs_data.columns"
   ]
  },
  {
   "cell_type": "code",
   "execution_count": 15,
   "id": "3dea021a",
   "metadata": {},
   "outputs": [],
   "source": [
    "valorant_data.rename(columns={'player': 'player_name', 'rounds': 'total_rounds', 'K/D': 'kd'}, inplace=True)"
   ]
  },
  {
   "cell_type": "code",
   "execution_count": 16,
   "id": "b94377ff",
   "metadata": {},
   "outputs": [],
   "source": [
    "valorant_data.drop(columns=['ACS', 'ADR', 'KPR', 'DPR', 'APR', 'FBPR', 'FDPR', 'HS%', 'FBSR%'], inplace=True)"
   ]
  },
  {
   "cell_type": "code",
   "execution_count": 17,
   "id": "a62b5d7a",
   "metadata": {},
   "outputs": [
    {
     "data": {
      "text/plain": [
       "Index(['player_name', 'country', 'team', 'total_rounds', 'kd', 'rating',\n",
       "       'game'],\n",
       "      dtype='object')"
      ]
     },
     "execution_count": 17,
     "metadata": {},
     "output_type": "execute_result"
    }
   ],
   "source": [
    "valorant_data=valorant_data[['player_name', 'country', 'team', 'total_rounds', 'kd', 'rating']]\n",
    "valorant_data['game'] = 'Valorant'\n",
    "valorant_data.columns"
   ]
  },
  {
   "cell_type": "code",
   "execution_count": 18,
   "id": "15a5c805",
   "metadata": {},
   "outputs": [
    {
     "data": {
      "text/plain": [
       "str"
      ]
     },
     "execution_count": 18,
     "metadata": {},
     "output_type": "execute_result"
    }
   ],
   "source": [
    "type(cs_data.team[0])"
   ]
  },
  {
   "cell_type": "code",
   "execution_count": 19,
   "id": "c6bbc3d7",
   "metadata": {},
   "outputs": [],
   "source": [
    "cs_data.team=pd.DataFrame([value.strip('[').strip(']').split(', ')[0].strip(\"'\") for value in cs_data.team])"
   ]
  },
  {
   "cell_type": "code",
   "execution_count": 20,
   "id": "396c0534",
   "metadata": {},
   "outputs": [
    {
     "data": {
      "text/plain": [
       "'Vitality'"
      ]
     },
     "execution_count": 20,
     "metadata": {},
     "output_type": "execute_result"
    }
   ],
   "source": [
    "cs_data.team[0]"
   ]
  },
  {
   "cell_type": "code",
   "execution_count": 21,
   "id": "64c7f981",
   "metadata": {},
   "outputs": [
    {
     "data": {
      "text/plain": [
       "array(['cl', 'ru', 'id', 'br', 'kr', 'cn', 'world', 'be', 'rs', 'de',\n",
       "       'ca', 'fi', 'us', 'th', 'latam', 'gb', 'ph', 'fr', 'vn', 'eu',\n",
       "       'nl', 'co', 'ch', 'dk', 'tr', 'sg', 'pl', 'in', 'kw', 'lk', 'eg',\n",
       "       'la', 'jp', 'pe', 'es', 'my', 'ee', 'se', 'cis', 'tn', 'pk', 'ar',\n",
       "       'gt', 'ma', 'ro', 'ie', 'do', 'mx', 'cz', 'ae', 'il', 'lv', 'au',\n",
       "       'asia', 'bd', 'al', 'hu', 'bg', 'hk', 'lt', 'kz', 'at', 'tw', 'it',\n",
       "       've', 'cr', 'dz', 'mv', 'ec', 'ua', 'jo', 'md', 'by', 'kh', 'sa',\n",
       "       'qa', 'pr', 'ps', 'sk', 'ba', 'mk', 'za', 'no', 'pt', 'gr', 'wa',\n",
       "       'hr', 'sy', 'lb', 'mn', 'nz', 'bh', 'si', 'py', 'uy', 'is', 'bn',\n",
       "       'ir', 'hn', 'oce'], dtype=object)"
      ]
     },
     "execution_count": 21,
     "metadata": {},
     "output_type": "execute_result"
    }
   ],
   "source": [
    "valorant_data.country.unique()"
   ]
  },
  {
   "cell_type": "code",
   "execution_count": 22,
   "id": "1dd225b2",
   "metadata": {},
   "outputs": [],
   "source": [
    "# Update the country column in valorant_data to full country names\n",
    "countries_short=['cl', 'ru', 'id', 'br', 'kr', 'cn', 'world', 'be', 'rs', 'de',\n",
    "       'ca', 'fi', 'us', 'th', 'latam', 'gb', 'ph', 'fr', 'vn', 'eu',\n",
    "       'nl', 'co', 'ch', 'dk', 'tr', 'sg', 'pl', 'in', 'kw', 'lk', 'eg',\n",
    "       'la', 'jp', 'pe', 'es', 'my', 'ee', 'se', 'cis', 'tn', 'pk', 'ar',\n",
    "       'gt', 'ma', 'ro', 'ie', 'do', 'mx', 'cz', 'ae', 'il', 'lv', 'au',\n",
    "       'asia', 'bd', 'al', 'hu', 'bg', 'hk', 'lt', 'kz', 'at', 'tw', 'it',\n",
    "       've', 'cr', 'dz', 'mv', 'ec', 'ua', 'jo', 'md', 'by', 'kh', 'sa',\n",
    "       'qa', 'pr', 'ps', 'sk', 'ba', 'mk', 'za', 'no', 'pt', 'gr', 'wa',\n",
    "       'hr', 'sy', 'lb', 'mn', 'nz', 'bh', 'si', 'py', 'uy', 'is', 'bn',\n",
    "       'ir', 'hn', 'oce']\n",
    "countries_full=['Chile', 'Russia', 'Indonesia', 'Brazil', 'South Korea', 'China', 'World', 'Belgium', 'Serbia', 'Germany',\n",
    "       'Canada', 'Finland', 'United States', 'Thailand', 'Latin America', 'Great Britain', 'Philippines', 'France', 'Vietnam', 'Europe',\n",
    "       'Netherlands', 'Colombia', 'Switzerland', 'Denmark', 'Turkey', 'Singapore', 'Poland', 'India', 'Kuwait', 'Sri Lanka', 'Egypt',\n",
    "       'Latin America', 'Japan', 'Peru', 'Spain', 'Malaysia', 'Estonia', 'Sweden', 'CIS', 'Tunisia', 'Pakistan', 'Argentina',\n",
    "       'Guatemala', 'Morocco', 'Romania', 'Ireland', 'Dominican Republic', 'Mexico', 'Czech Republic', 'United Arab Emirates', 'Israel', 'Latvia', 'Australia',\n",
    "       'Asia', 'Bangladesh', 'Albania', 'Hungary', 'Bulgaria', 'Hong Kong', 'Lithuania', 'Kazakhstan', 'Austria', 'Taiwan', 'Italy',\n",
    "       'Venezuela', 'Costa Rica', 'Algeria', 'Maldives', 'Ecuador', 'Ukraine', 'Jordan', 'Moldova', 'Belarus', 'Cambodia', 'Saudi Arabia',\n",
    "       'Qatar', 'Puerto Rico', 'Palestine', 'Slovakia', 'Bosnia and Herzegovina', 'North Macedonia', 'South Africa', 'Norway', 'Portugal', 'Greece', 'Wales',\n",
    "       'Croatia', 'Syria', 'Lebanon', 'Mongolia', 'New Zealand', 'Bahrain', 'Slovenia', 'Paraguay', 'Uruguay', 'Iceland', 'Brunei',\n",
    "       'Iran', 'Honduras', 'Oceania']\n",
    "\n",
    "country_dict = dict(zip(countries_short, countries_full))"
   ]
  },
  {
   "cell_type": "code",
   "execution_count": 23,
   "id": "7efe22c2",
   "metadata": {},
   "outputs": [
    {
     "data": {
      "text/plain": [
       "100"
      ]
     },
     "execution_count": 23,
     "metadata": {},
     "output_type": "execute_result"
    }
   ],
   "source": [
    "len(countries_short)"
   ]
  },
  {
   "cell_type": "code",
   "execution_count": 24,
   "id": "9594be48",
   "metadata": {},
   "outputs": [
    {
     "data": {
      "text/plain": [
       "100"
      ]
     },
     "execution_count": 24,
     "metadata": {},
     "output_type": "execute_result"
    }
   ],
   "source": [
    "len(countries_full)"
   ]
  },
  {
   "cell_type": "code",
   "execution_count": 25,
   "id": "74549bd1",
   "metadata": {},
   "outputs": [
    {
     "data": {
      "text/plain": [
       "100"
      ]
     },
     "execution_count": 25,
     "metadata": {},
     "output_type": "execute_result"
    }
   ],
   "source": [
    "len(country_dict)"
   ]
  },
  {
   "cell_type": "code",
   "execution_count": 26,
   "id": "2e1da3bb",
   "metadata": {},
   "outputs": [],
   "source": [
    "valorant_data['country'] = valorant_data['country'].map(country_dict)"
   ]
  },
  {
   "cell_type": "code",
   "execution_count": 27,
   "id": "70e8e79c",
   "metadata": {},
   "outputs": [
    {
     "data": {
      "text/plain": [
       "99"
      ]
     },
     "execution_count": 27,
     "metadata": {},
     "output_type": "execute_result"
    }
   ],
   "source": [
    "valorant_data.country.nunique()"
   ]
  },
  {
   "cell_type": "code",
   "execution_count": 28,
   "id": "6cc3770a",
   "metadata": {},
   "outputs": [
    {
     "data": {
      "text/plain": [
       "Index(['player_name', 'country', 'team', 'total_rounds', 'kd', 'rating',\n",
       "       'game'],\n",
       "      dtype='object')"
      ]
     },
     "execution_count": 28,
     "metadata": {},
     "output_type": "execute_result"
    }
   ],
   "source": [
    "cs_data.columns"
   ]
  },
  {
   "cell_type": "code",
   "execution_count": 29,
   "id": "9c35359e",
   "metadata": {},
   "outputs": [
    {
     "data": {
      "text/plain": [
       "Index(['player_name', 'country', 'team', 'total_rounds', 'kd', 'rating',\n",
       "       'game'],\n",
       "      dtype='object')"
      ]
     },
     "execution_count": 29,
     "metadata": {},
     "output_type": "execute_result"
    }
   ],
   "source": [
    "valorant_data.columns"
   ]
  },
  {
   "cell_type": "code",
   "execution_count": 31,
   "id": "d37e9be0",
   "metadata": {},
   "outputs": [],
   "source": [
    "cs_data.to_csv('datasets/cleaned/esports/csgo/player_stats.csv', index=False)"
   ]
  },
  {
   "cell_type": "code",
   "execution_count": 32,
   "id": "fb7e26cc",
   "metadata": {},
   "outputs": [],
   "source": [
    "valorant_data.to_csv('datasets/cleaned/esports/valorant/player_stats.csv', index=False)"
   ]
  }
 ],
 "metadata": {
  "kernelspec": {
   "display_name": "Python 3",
   "language": "python",
   "name": "python3"
  },
  "language_info": {
   "codemirror_mode": {
    "name": "ipython",
    "version": 3
   },
   "file_extension": ".py",
   "mimetype": "text/x-python",
   "name": "python",
   "nbconvert_exporter": "python",
   "pygments_lexer": "ipython3",
   "version": "3.13.3"
  }
 },
 "nbformat": 4,
 "nbformat_minor": 5
}
