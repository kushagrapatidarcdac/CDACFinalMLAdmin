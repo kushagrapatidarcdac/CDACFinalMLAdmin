{
 "cells": [
  {
   "cell_type": "code",
   "execution_count": 14,
   "id": "924683ac",
   "metadata": {},
   "outputs": [],
   "source": [
    "from insert_player_data import DataHandler\n",
    "from pprint import pprint"
   ]
  },
  {
   "cell_type": "code",
   "execution_count": 15,
   "id": "54b66cdc",
   "metadata": {},
   "outputs": [],
   "source": [
    "segment = 'esports'\n",
    "game = 'csgo'"
   ]
  },
  {
   "cell_type": "code",
   "execution_count": 16,
   "id": "c684162c",
   "metadata": {},
   "outputs": [],
   "source": [
    "DH=DataHandler(segment, game)"
   ]
  },
  {
   "cell_type": "code",
   "execution_count": 17,
   "id": "61bfa41c",
   "metadata": {},
   "outputs": [],
   "source": [
    "filepath = DH.get_filepath()[1]"
   ]
  },
  {
   "cell_type": "code",
   "execution_count": 18,
   "id": "6619b4ff",
   "metadata": {},
   "outputs": [
    {
     "data": {
      "text/plain": [
       "'datasets\\\\cleaned\\\\esports\\\\csgo\\\\player_stats.csv'"
      ]
     },
     "execution_count": 18,
     "metadata": {},
     "output_type": "execute_result"
    }
   ],
   "source": [
    "filepath"
   ]
  },
  {
   "cell_type": "code",
   "execution_count": 19,
   "id": "ad455141",
   "metadata": {},
   "outputs": [],
   "source": [
    "dataset = DH.get_dataset(filepath)"
   ]
  },
  {
   "cell_type": "code",
   "execution_count": 20,
   "id": "9ee2f8a7",
   "metadata": {},
   "outputs": [
    {
     "data": {
      "application/vnd.microsoft.datawrangler.viewer.v0+json": {
       "columns": [
        {
         "name": "index",
         "rawType": "int64",
         "type": "integer"
        },
        {
         "name": "player_name",
         "rawType": "object",
         "type": "string"
        },
        {
         "name": "country",
         "rawType": "object",
         "type": "string"
        },
        {
         "name": "team",
         "rawType": "object",
         "type": "string"
        },
        {
         "name": "total_rounds",
         "rawType": "int64",
         "type": "integer"
        },
        {
         "name": "kd",
         "rawType": "float64",
         "type": "float"
        },
        {
         "name": "rating",
         "rawType": "float64",
         "type": "float"
        },
        {
         "name": "game",
         "rawType": "object",
         "type": "string"
        }
       ],
       "ref": "fe4ed398-33bf-4eea-9504-fbc0a54d9e46",
       "rows": [
        [
         "0",
         "ZywOo",
         "France",
         "Vitality",
         "22399",
         "1.38",
         "1.28",
         "CSGO"
        ],
        [
         "1",
         "s1mple",
         "Ukraine",
         "Natus Vincere",
         "37717",
         "1.33",
         "1.25",
         "CSGO"
        ],
        [
         "2",
         "deko",
         "Russia",
         "1WIN",
         "5096",
         "1.42",
         "1.24",
         "CSGO"
        ],
        [
         "3",
         "saffee",
         "Brazil",
         "paiN",
         "5383",
         "1.37",
         "1.24",
         "CSGO"
        ],
        [
         "4",
         "sh1ro",
         "Russia",
         "Gambit",
         "19780",
         "1.43",
         "1.22",
         "CSGO"
        ]
       ],
       "shape": {
        "columns": 7,
        "rows": 5
       }
      },
      "text/html": [
       "<div>\n",
       "<style scoped>\n",
       "    .dataframe tbody tr th:only-of-type {\n",
       "        vertical-align: middle;\n",
       "    }\n",
       "\n",
       "    .dataframe tbody tr th {\n",
       "        vertical-align: top;\n",
       "    }\n",
       "\n",
       "    .dataframe thead th {\n",
       "        text-align: right;\n",
       "    }\n",
       "</style>\n",
       "<table border=\"1\" class=\"dataframe\">\n",
       "  <thead>\n",
       "    <tr style=\"text-align: right;\">\n",
       "      <th></th>\n",
       "      <th>player_name</th>\n",
       "      <th>country</th>\n",
       "      <th>team</th>\n",
       "      <th>total_rounds</th>\n",
       "      <th>kd</th>\n",
       "      <th>rating</th>\n",
       "      <th>game</th>\n",
       "    </tr>\n",
       "  </thead>\n",
       "  <tbody>\n",
       "    <tr>\n",
       "      <th>0</th>\n",
       "      <td>ZywOo</td>\n",
       "      <td>France</td>\n",
       "      <td>Vitality</td>\n",
       "      <td>22399</td>\n",
       "      <td>1.38</td>\n",
       "      <td>1.28</td>\n",
       "      <td>CSGO</td>\n",
       "    </tr>\n",
       "    <tr>\n",
       "      <th>1</th>\n",
       "      <td>s1mple</td>\n",
       "      <td>Ukraine</td>\n",
       "      <td>Natus Vincere</td>\n",
       "      <td>37717</td>\n",
       "      <td>1.33</td>\n",
       "      <td>1.25</td>\n",
       "      <td>CSGO</td>\n",
       "    </tr>\n",
       "    <tr>\n",
       "      <th>2</th>\n",
       "      <td>deko</td>\n",
       "      <td>Russia</td>\n",
       "      <td>1WIN</td>\n",
       "      <td>5096</td>\n",
       "      <td>1.42</td>\n",
       "      <td>1.24</td>\n",
       "      <td>CSGO</td>\n",
       "    </tr>\n",
       "    <tr>\n",
       "      <th>3</th>\n",
       "      <td>saffee</td>\n",
       "      <td>Brazil</td>\n",
       "      <td>paiN</td>\n",
       "      <td>5383</td>\n",
       "      <td>1.37</td>\n",
       "      <td>1.24</td>\n",
       "      <td>CSGO</td>\n",
       "    </tr>\n",
       "    <tr>\n",
       "      <th>4</th>\n",
       "      <td>sh1ro</td>\n",
       "      <td>Russia</td>\n",
       "      <td>Gambit</td>\n",
       "      <td>19780</td>\n",
       "      <td>1.43</td>\n",
       "      <td>1.22</td>\n",
       "      <td>CSGO</td>\n",
       "    </tr>\n",
       "  </tbody>\n",
       "</table>\n",
       "</div>"
      ],
      "text/plain": [
       "  player_name  country           team  total_rounds    kd  rating  game\n",
       "0       ZywOo   France       Vitality         22399  1.38    1.28  CSGO\n",
       "1      s1mple  Ukraine  Natus Vincere         37717  1.33    1.25  CSGO\n",
       "2        deko   Russia           1WIN          5096  1.42    1.24  CSGO\n",
       "3      saffee   Brazil           paiN          5383  1.37    1.24  CSGO\n",
       "4       sh1ro   Russia         Gambit         19780  1.43    1.22  CSGO"
      ]
     },
     "execution_count": 20,
     "metadata": {},
     "output_type": "execute_result"
    }
   ],
   "source": [
    "dataset.head()"
   ]
  },
  {
   "cell_type": "code",
   "execution_count": 21,
   "id": "c03d9e9c",
   "metadata": {},
   "outputs": [],
   "source": [
    "dataset_dict = DH.data_to_dict(dataset)"
   ]
  },
  {
   "cell_type": "code",
   "execution_count": 22,
   "id": "9f36aca3",
   "metadata": {},
   "outputs": [
    {
     "name": "stdout",
     "output_type": "stream",
     "text": [
      "Cleaned dataset dictionary:\n"
     ]
    }
   ],
   "source": [
    "print(\"Cleaned dataset dictionary:\") "
   ]
  },
  {
   "cell_type": "code",
   "execution_count": 23,
   "id": "accda645",
   "metadata": {},
   "outputs": [
    {
     "data": {
      "text/plain": [
       "['player_name', 'country', 'team', 'total_rounds', 'kd', 'rating', 'game']"
      ]
     },
     "execution_count": 23,
     "metadata": {},
     "output_type": "execute_result"
    }
   ],
   "source": [
    "list(dataset_dict.keys())"
   ]
  },
  {
   "cell_type": "code",
   "execution_count": 24,
   "id": "2233c76b",
   "metadata": {},
   "outputs": [],
   "source": [
    "DH.save_to_db(dataset_dict)"
   ]
  }
 ],
 "metadata": {
  "kernelspec": {
   "display_name": "Python 3",
   "language": "python",
   "name": "python3"
  },
  "language_info": {
   "codemirror_mode": {
    "name": "ipython",
    "version": 3
   },
   "file_extension": ".py",
   "mimetype": "text/x-python",
   "name": "python",
   "nbconvert_exporter": "python",
   "pygments_lexer": "ipython3",
   "version": "3.13.3"
  }
 },
 "nbformat": 4,
 "nbformat_minor": 5
}
