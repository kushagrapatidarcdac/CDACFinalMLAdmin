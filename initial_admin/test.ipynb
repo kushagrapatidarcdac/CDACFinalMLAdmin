{
 "cells": [
  {
   "cell_type": "code",
   "execution_count": 1,
   "id": "22b327c9",
   "metadata": {},
   "outputs": [],
   "source": [
    "import requests"
   ]
  },
  {
   "cell_type": "code",
   "execution_count": null,
   "id": "d82c0375",
   "metadata": {},
   "outputs": [],
   "source": [
    "def get_predictor():\n",
    "    # Change this URL to match where your FastAPI is running\n",
    "    url = \"http://localhost:8000/predictor/\"\n",
    "\n",
    "    # Example payload matching your PredictMLInput model\n",
    "    payload = {\n",
    "        \"segment\": \"esports\",\n",
    "        \"game\": \"valorant\",\n",
    "        \"total_rounds\": 569,\n",
    "        \"kd\": 1.2\n",
    "    }\n",
    "    \n",
    "    return url, payload\n",
    "\n",
    "\n",
    "# Recommendation Example Usage\n",
    "def get_recommender():\n",
    "    url = \"http://localhost:8000/recommender/\"\n",
    "\n",
    "    \n",
    "    payload = {\n",
    "        \"segment\": \"esports\",\n",
    "        \"game\": \"csgo\",\n",
    "        \"player_name\": \"ZywOo\",\n",
    "        \"k\": 5\n",
    "    }\n",
    "\n",
    "    return url, payload\n",
    "\n",
    "\n"
   ]
  },
  {
   "cell_type": "code",
   "execution_count": 3,
   "id": "b79569da",
   "metadata": {},
   "outputs": [],
   "source": [
    "headers = {\n",
    "    \"Content-Type\": \"application/json\"\n",
    "}"
   ]
  },
  {
   "cell_type": "code",
   "execution_count": 20,
   "id": "13b72c8d",
   "metadata": {},
   "outputs": [
    {
     "name": "stdout",
     "output_type": "stream",
     "text": [
      "Status code: 201\n",
      "Response JSON: {'rating': 1.13}\n"
     ]
    }
   ],
   "source": [
    "url, payload=get_predictor()\n",
    "\n",
    "response = requests.post(url, json=payload, headers=headers)\n",
    "print(\"Status code:\", response.status_code)\n",
    "print(\"Response JSON:\", response.json())"
   ]
  },
  {
   "cell_type": "code",
   "execution_count": 21,
   "id": "8e9e85c9",
   "metadata": {},
   "outputs": [
    {
     "name": "stdout",
     "output_type": "stream",
     "text": [
      "Status code: 201\n",
      "Response JSON: {'player_name': ['fxy0', 'jeyN', 'kennyS', 'hAdji', 'KQLY']}\n"
     ]
    }
   ],
   "source": [
    "url, payload=get_recommender()\n",
    "\n",
    "response = requests.post(url, json=payload, headers=headers)\n",
    "print(\"Status code:\", response.status_code)\n",
    "print(\"Response JSON:\", response.json())"
   ]
  }
 ],
 "metadata": {
  "kernelspec": {
   "display_name": "Python 3",
   "language": "python",
   "name": "python3"
  },
  "language_info": {
   "codemirror_mode": {
    "name": "ipython",
    "version": 3
   },
   "file_extension": ".py",
   "mimetype": "text/x-python",
   "name": "python",
   "nbconvert_exporter": "python",
   "pygments_lexer": "ipython3",
   "version": "3.13.3"
  }
 },
 "nbformat": 4,
 "nbformat_minor": 5
}
