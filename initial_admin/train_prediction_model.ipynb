{
 "cells": [
  {
   "cell_type": "code",
   "execution_count": 2,
   "id": "788670aa",
   "metadata": {},
   "outputs": [],
   "source": [
    "from crud import PlayerDataCrud, ModelCrud\n",
    "from initial_predicton_trainer import InitialPredictionTrainer\n",
    "import pandas as pd"
   ]
  },
  {
   "cell_type": "code",
   "execution_count": 25,
   "id": "5bc47e8e",
   "metadata": {},
   "outputs": [],
   "source": [
    "segment='esports'\n",
    "game='valorant'\n",
    "model_type='prediction'"
   ]
  },
  {
   "cell_type": "code",
   "execution_count": 26,
   "metadata": {},
   "outputs": [],
   "source": [
    "PDC=PlayerDataCrud(segment, game)"
   ]
  },
  {
   "cell_type": "code",
   "execution_count": 27,
   "id": "d8b8d4e3",
   "metadata": {},
   "outputs": [],
   "source": [
    "data=pd.DataFrame.from_dict(PDC.read_data()['data'], orient='columns')"
   ]
  },
  {
   "cell_type": "code",
   "execution_count": 28,
   "id": "71fe8888",
   "metadata": {},
   "outputs": [
    {
     "data": {
      "text/plain": [
       "pandas.core.frame.DataFrame"
      ]
     },
     "execution_count": 28,
     "metadata": {},
     "output_type": "execute_result"
    }
   ],
   "source": [
    "type(data)"
   ]
  },
  {
   "cell_type": "code",
   "execution_count": 29,
   "id": "d6681809",
   "metadata": {},
   "outputs": [
    {
     "data": {
      "application/vnd.microsoft.datawrangler.viewer.v0+json": {
       "columns": [
        {
         "name": "index",
         "rawType": "int64",
         "type": "integer"
        },
        {
         "name": "player_name",
         "rawType": "object",
         "type": "string"
        },
        {
         "name": "country",
         "rawType": "object",
         "type": "string"
        },
        {
         "name": "team",
         "rawType": "object",
         "type": "string"
        },
        {
         "name": "total_rounds",
         "rawType": "int64",
         "type": "integer"
        },
        {
         "name": "kd",
         "rawType": "float64",
         "type": "float"
        },
        {
         "name": "rating",
         "rawType": "float64",
         "type": "float"
        }
       ],
       "ref": "56b9245e-6bb2-49c9-ba0b-e4df17b9808a",
       "rows": [
        [
         "0",
         "conir",
         "Chile",
         "KRÜ Fem",
         "540",
         "2.0",
         "1.62"
        ],
        [
         "1",
         "FRAZPEEK",
         "Chile",
         "King's Row",
         "318",
         "1.59",
         "1.56"
        ],
        [
         "2",
         "Unravel",
         "Russia",
         "Smile",
         "344",
         "1.53",
         "1.46"
        ],
        [
         "3",
         "eneri",
         "Indonesia",
         "Celeste",
         "1392",
         "1.43",
         "1.46"
        ],
        [
         "4",
         "aspas",
         "Brazil",
         "LOUD",
         "587",
         "1.8",
         "1.45"
        ]
       ],
       "shape": {
        "columns": 6,
        "rows": 5
       }
      },
      "text/html": [
       "<div>\n",
       "<style scoped>\n",
       "    .dataframe tbody tr th:only-of-type {\n",
       "        vertical-align: middle;\n",
       "    }\n",
       "\n",
       "    .dataframe tbody tr th {\n",
       "        vertical-align: top;\n",
       "    }\n",
       "\n",
       "    .dataframe thead th {\n",
       "        text-align: right;\n",
       "    }\n",
       "</style>\n",
       "<table border=\"1\" class=\"dataframe\">\n",
       "  <thead>\n",
       "    <tr style=\"text-align: right;\">\n",
       "      <th></th>\n",
       "      <th>player_name</th>\n",
       "      <th>country</th>\n",
       "      <th>team</th>\n",
       "      <th>total_rounds</th>\n",
       "      <th>kd</th>\n",
       "      <th>rating</th>\n",
       "    </tr>\n",
       "  </thead>\n",
       "  <tbody>\n",
       "    <tr>\n",
       "      <th>0</th>\n",
       "      <td>conir</td>\n",
       "      <td>Chile</td>\n",
       "      <td>KRÜ Fem</td>\n",
       "      <td>540</td>\n",
       "      <td>2.00</td>\n",
       "      <td>1.62</td>\n",
       "    </tr>\n",
       "    <tr>\n",
       "      <th>1</th>\n",
       "      <td>FRAZPEEK</td>\n",
       "      <td>Chile</td>\n",
       "      <td>King's Row</td>\n",
       "      <td>318</td>\n",
       "      <td>1.59</td>\n",
       "      <td>1.56</td>\n",
       "    </tr>\n",
       "    <tr>\n",
       "      <th>2</th>\n",
       "      <td>Unravel</td>\n",
       "      <td>Russia</td>\n",
       "      <td>Smile</td>\n",
       "      <td>344</td>\n",
       "      <td>1.53</td>\n",
       "      <td>1.46</td>\n",
       "    </tr>\n",
       "    <tr>\n",
       "      <th>3</th>\n",
       "      <td>eneri</td>\n",
       "      <td>Indonesia</td>\n",
       "      <td>Celeste</td>\n",
       "      <td>1392</td>\n",
       "      <td>1.43</td>\n",
       "      <td>1.46</td>\n",
       "    </tr>\n",
       "    <tr>\n",
       "      <th>4</th>\n",
       "      <td>aspas</td>\n",
       "      <td>Brazil</td>\n",
       "      <td>LOUD</td>\n",
       "      <td>587</td>\n",
       "      <td>1.80</td>\n",
       "      <td>1.45</td>\n",
       "    </tr>\n",
       "  </tbody>\n",
       "</table>\n",
       "</div>"
      ],
      "text/plain": [
       "  player_name    country        team  total_rounds    kd  rating\n",
       "0       conir      Chile     KRÜ Fem           540  2.00    1.62\n",
       "1    FRAZPEEK      Chile  King's Row           318  1.59    1.56\n",
       "2     Unravel     Russia       Smile           344  1.53    1.46\n",
       "3       eneri  Indonesia     Celeste          1392  1.43    1.46\n",
       "4       aspas     Brazil        LOUD           587  1.80    1.45"
      ]
     },
     "execution_count": 29,
     "metadata": {},
     "output_type": "execute_result"
    }
   ],
   "source": [
    "data.head()"
   ]
  },
  {
   "cell_type": "code",
   "execution_count": 30,
   "id": "16ae8ed4",
   "metadata": {},
   "outputs": [],
   "source": [
    "IPT=InitialPredictionTrainer(segment,game)"
   ]
  },
  {
   "cell_type": "code",
   "execution_count": 31,
   "id": "ac4df109",
   "metadata": {},
   "outputs": [],
   "source": [
    "IPT.extract_features(data)"
   ]
  },
  {
   "cell_type": "code",
   "execution_count": 32,
   "id": "b96a9806",
   "metadata": {},
   "outputs": [],
   "source": [
    "IPT.initpipeline()"
   ]
  },
  {
   "cell_type": "code",
   "execution_count": 33,
   "id": "864ba77c",
   "metadata": {},
   "outputs": [],
   "source": [
    "IPT.train_model()"
   ]
  },
  {
   "cell_type": "code",
   "execution_count": 34,
   "id": "a7d5de09",
   "metadata": {},
   "outputs": [],
   "source": [
    "IPT.byte_model()"
   ]
  },
  {
   "cell_type": "code",
   "execution_count": 35,
   "id": "cdd337a3",
   "metadata": {},
   "outputs": [],
   "source": [
    "MC=ModelCrud(segment, game)"
   ]
  },
  {
   "cell_type": "code",
   "execution_count": 36,
   "id": "2b96833a",
   "metadata": {},
   "outputs": [],
   "source": [
    "MC.create_mlmodel(IPT.model_type, IPT.model_bytes)"
   ]
  },
  {
   "cell_type": "code",
   "execution_count": 37,
   "id": "3f8e5159",
   "metadata": {},
   "outputs": [],
   "source": [
    "model_binary=MC.read_mlmodel(IPT.model_type)"
   ]
  },
  {
   "cell_type": "code",
   "execution_count": 38,
   "id": "4648a113",
   "metadata": {},
   "outputs": [],
   "source": [
    "import pickle"
   ]
  },
  {
   "cell_type": "code",
   "execution_count": 39,
   "id": "71019863",
   "metadata": {},
   "outputs": [],
   "source": [
    "pipeline=pickle.loads(model_binary)"
   ]
  },
  {
   "cell_type": "code",
   "execution_count": 40,
   "id": "634c659c",
   "metadata": {},
   "outputs": [
    {
     "name": "stderr",
     "output_type": "stream",
     "text": [
      "C:\\Users\\yaksha\\AppData\\Roaming\\Python\\Python313\\site-packages\\sklearn\\utils\\validation.py:2739: UserWarning: X does not have valid feature names, but StandardScaler was fitted with feature names\n",
      "  warnings.warn(\n"
     ]
    },
    {
     "data": {
      "text/plain": [
       "array([1.13104569])"
      ]
     },
     "execution_count": 40,
     "metadata": {},
     "output_type": "execute_result"
    }
   ],
   "source": [
    "pipeline.predict([[569,1.2]])"
   ]
  }
 ],
 "metadata": {
  "kernelspec": {
   "display_name": "Python 3",
   "language": "python",
   "name": "python3"
  },
  "language_info": {
   "codemirror_mode": {
    "name": "ipython",
    "version": 3
   },
   "file_extension": ".py",
   "mimetype": "text/x-python",
   "name": "python",
   "nbconvert_exporter": "python",
   "pygments_lexer": "ipython3",
   "version": "3.13.3"
  }
 },
 "nbformat": 4,
 "nbformat_minor": 5
}
